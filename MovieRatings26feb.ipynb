{
  "nbformat": 4,
  "nbformat_minor": 0,
  "metadata": {
    "colab": {
      "provenance": [],
      "toc_visible": true,
      "authorship_tag": "ABX9TyMxV+FVSR2uNFdOmI48b2Gs",
      "include_colab_link": true
    },
    "kernelspec": {
      "name": "python3",
      "display_name": "Python 3"
    },
    "language_info": {
      "name": "python"
    }
  },
  "cells": [
    {
      "cell_type": "markdown",
      "metadata": {
        "id": "view-in-github",
        "colab_type": "text"
      },
      "source": [
        "<a href=\"https://colab.research.google.com/github/anand8071/Anand-Kumar/blob/main/MovieRatings26feb.ipynb\" target=\"_parent\"><img src=\"https://colab.research.google.com/assets/colab-badge.svg\" alt=\"Open In Colab\"/></a>"
      ]
    },
    {
      "cell_type": "code",
      "execution_count": 3,
      "metadata": {
        "id": "cFTzG_HUFiXM"
      },
      "outputs": [],
      "source": [
        "import numpy as np\n",
        "import pandas as pd\n",
        "import matplotlib.pyplot as plt\n",
        "import seaborn as sns"
      ]
    },
    {
      "cell_type": "code",
      "source": [
        "movies=pd.read_csv('/content/Movie-Ratings.csv')"
      ],
      "metadata": {
        "id": "REob7BfnF8ZH"
      },
      "execution_count": 10,
      "outputs": []
    },
    {
      "cell_type": "code",
      "source": [
        "movies.head()"
      ],
      "metadata": {
        "colab": {
          "base_uri": "https://localhost:8080/",
          "height": 206
        },
        "id": "5IPbqr_vGRu0",
        "outputId": "a50c855b-8a6b-424a-dc53-c1dba4b54425"
      },
      "execution_count": 12,
      "outputs": [
        {
          "output_type": "execute_result",
          "data": {
            "text/plain": [
              "                    Film      Genre  Rotten Tomatoes Ratings %  \\\n",
              "0  (500) Days of Summer      Comedy                         87   \n",
              "1            10,000 B.C.  Adventure                          9   \n",
              "2             12 Rounds      Action                         30   \n",
              "3              127 Hours  Adventure                         93   \n",
              "4              17 Again      Comedy                         55   \n",
              "\n",
              "   Audience Ratings %  Budget (million $)  Year of release  \n",
              "0                  81                   8             2009  \n",
              "1                  44                 105             2008  \n",
              "2                  52                  20             2009  \n",
              "3                  84                  18             2010  \n",
              "4                  70                  20             2009  "
            ],
            "text/html": [
              "\n",
              "  <div id=\"df-796c1c27-ab54-4feb-8fe1-e53311790874\">\n",
              "    <div class=\"colab-df-container\">\n",
              "      <div>\n",
              "<style scoped>\n",
              "    .dataframe tbody tr th:only-of-type {\n",
              "        vertical-align: middle;\n",
              "    }\n",
              "\n",
              "    .dataframe tbody tr th {\n",
              "        vertical-align: top;\n",
              "    }\n",
              "\n",
              "    .dataframe thead th {\n",
              "        text-align: right;\n",
              "    }\n",
              "</style>\n",
              "<table border=\"1\" class=\"dataframe\">\n",
              "  <thead>\n",
              "    <tr style=\"text-align: right;\">\n",
              "      <th></th>\n",
              "      <th>Film</th>\n",
              "      <th>Genre</th>\n",
              "      <th>Rotten Tomatoes Ratings %</th>\n",
              "      <th>Audience Ratings %</th>\n",
              "      <th>Budget (million $)</th>\n",
              "      <th>Year of release</th>\n",
              "    </tr>\n",
              "  </thead>\n",
              "  <tbody>\n",
              "    <tr>\n",
              "      <th>0</th>\n",
              "      <td>(500) Days of Summer</td>\n",
              "      <td>Comedy</td>\n",
              "      <td>87</td>\n",
              "      <td>81</td>\n",
              "      <td>8</td>\n",
              "      <td>2009</td>\n",
              "    </tr>\n",
              "    <tr>\n",
              "      <th>1</th>\n",
              "      <td>10,000 B.C.</td>\n",
              "      <td>Adventure</td>\n",
              "      <td>9</td>\n",
              "      <td>44</td>\n",
              "      <td>105</td>\n",
              "      <td>2008</td>\n",
              "    </tr>\n",
              "    <tr>\n",
              "      <th>2</th>\n",
              "      <td>12 Rounds</td>\n",
              "      <td>Action</td>\n",
              "      <td>30</td>\n",
              "      <td>52</td>\n",
              "      <td>20</td>\n",
              "      <td>2009</td>\n",
              "    </tr>\n",
              "    <tr>\n",
              "      <th>3</th>\n",
              "      <td>127 Hours</td>\n",
              "      <td>Adventure</td>\n",
              "      <td>93</td>\n",
              "      <td>84</td>\n",
              "      <td>18</td>\n",
              "      <td>2010</td>\n",
              "    </tr>\n",
              "    <tr>\n",
              "      <th>4</th>\n",
              "      <td>17 Again</td>\n",
              "      <td>Comedy</td>\n",
              "      <td>55</td>\n",
              "      <td>70</td>\n",
              "      <td>20</td>\n",
              "      <td>2009</td>\n",
              "    </tr>\n",
              "  </tbody>\n",
              "</table>\n",
              "</div>\n",
              "      <button class=\"colab-df-convert\" onclick=\"convertToInteractive('df-796c1c27-ab54-4feb-8fe1-e53311790874')\"\n",
              "              title=\"Convert this dataframe to an interactive table.\"\n",
              "              style=\"display:none;\">\n",
              "        \n",
              "  <svg xmlns=\"http://www.w3.org/2000/svg\" height=\"24px\"viewBox=\"0 0 24 24\"\n",
              "       width=\"24px\">\n",
              "    <path d=\"M0 0h24v24H0V0z\" fill=\"none\"/>\n",
              "    <path d=\"M18.56 5.44l.94 2.06.94-2.06 2.06-.94-2.06-.94-.94-2.06-.94 2.06-2.06.94zm-11 1L8.5 8.5l.94-2.06 2.06-.94-2.06-.94L8.5 2.5l-.94 2.06-2.06.94zm10 10l.94 2.06.94-2.06 2.06-.94-2.06-.94-.94-2.06-.94 2.06-2.06.94z\"/><path d=\"M17.41 7.96l-1.37-1.37c-.4-.4-.92-.59-1.43-.59-.52 0-1.04.2-1.43.59L10.3 9.45l-7.72 7.72c-.78.78-.78 2.05 0 2.83L4 21.41c.39.39.9.59 1.41.59.51 0 1.02-.2 1.41-.59l7.78-7.78 2.81-2.81c.8-.78.8-2.07 0-2.86zM5.41 20L4 18.59l7.72-7.72 1.47 1.35L5.41 20z\"/>\n",
              "  </svg>\n",
              "      </button>\n",
              "      \n",
              "  <style>\n",
              "    .colab-df-container {\n",
              "      display:flex;\n",
              "      flex-wrap:wrap;\n",
              "      gap: 12px;\n",
              "    }\n",
              "\n",
              "    .colab-df-convert {\n",
              "      background-color: #E8F0FE;\n",
              "      border: none;\n",
              "      border-radius: 50%;\n",
              "      cursor: pointer;\n",
              "      display: none;\n",
              "      fill: #1967D2;\n",
              "      height: 32px;\n",
              "      padding: 0 0 0 0;\n",
              "      width: 32px;\n",
              "    }\n",
              "\n",
              "    .colab-df-convert:hover {\n",
              "      background-color: #E2EBFA;\n",
              "      box-shadow: 0px 1px 2px rgba(60, 64, 67, 0.3), 0px 1px 3px 1px rgba(60, 64, 67, 0.15);\n",
              "      fill: #174EA6;\n",
              "    }\n",
              "\n",
              "    [theme=dark] .colab-df-convert {\n",
              "      background-color: #3B4455;\n",
              "      fill: #D2E3FC;\n",
              "    }\n",
              "\n",
              "    [theme=dark] .colab-df-convert:hover {\n",
              "      background-color: #434B5C;\n",
              "      box-shadow: 0px 1px 3px 1px rgba(0, 0, 0, 0.15);\n",
              "      filter: drop-shadow(0px 1px 2px rgba(0, 0, 0, 0.3));\n",
              "      fill: #FFFFFF;\n",
              "    }\n",
              "  </style>\n",
              "\n",
              "      <script>\n",
              "        const buttonEl =\n",
              "          document.querySelector('#df-796c1c27-ab54-4feb-8fe1-e53311790874 button.colab-df-convert');\n",
              "        buttonEl.style.display =\n",
              "          google.colab.kernel.accessAllowed ? 'block' : 'none';\n",
              "\n",
              "        async function convertToInteractive(key) {\n",
              "          const element = document.querySelector('#df-796c1c27-ab54-4feb-8fe1-e53311790874');\n",
              "          const dataTable =\n",
              "            await google.colab.kernel.invokeFunction('convertToInteractive',\n",
              "                                                     [key], {});\n",
              "          if (!dataTable) return;\n",
              "\n",
              "          const docLinkHtml = 'Like what you see? Visit the ' +\n",
              "            '<a target=\"_blank\" href=https://colab.research.google.com/notebooks/data_table.ipynb>data table notebook</a>'\n",
              "            + ' to learn more about interactive tables.';\n",
              "          element.innerHTML = '';\n",
              "          dataTable['output_type'] = 'display_data';\n",
              "          await google.colab.output.renderOutput(dataTable, element);\n",
              "          const docLink = document.createElement('div');\n",
              "          docLink.innerHTML = docLinkHtml;\n",
              "          element.appendChild(docLink);\n",
              "        }\n",
              "      </script>\n",
              "    </div>\n",
              "  </div>\n",
              "  "
            ]
          },
          "metadata": {},
          "execution_count": 12
        }
      ]
    },
    {
      "cell_type": "code",
      "source": [
        "movies.columns"
      ],
      "metadata": {
        "colab": {
          "base_uri": "https://localhost:8080/"
        },
        "id": "O9T3XCA6Hk8-",
        "outputId": "e2467809-19b0-4616-df88-ef11da5f2f46"
      },
      "execution_count": 13,
      "outputs": [
        {
          "output_type": "execute_result",
          "data": {
            "text/plain": [
              "Index(['Film', 'Genre', 'Rotten Tomatoes Ratings %', 'Audience Ratings %',\n",
              "       'Budget (million $)', 'Year of release'],\n",
              "      dtype='object')"
            ]
          },
          "metadata": {},
          "execution_count": 13
        }
      ]
    },
    {
      "cell_type": "code",
      "source": [
        "movies.columns=['Film', 'Genre', 'CtriticRating', 'AudienceRating',\n",
        "       'Budget', 'Year']"
      ],
      "metadata": {
        "id": "RnOzlu61HohA"
      },
      "execution_count": 37,
      "outputs": []
    },
    {
      "cell_type": "code",
      "source": [],
      "metadata": {
        "id": "3UVwvZNjPXJH"
      },
      "execution_count": null,
      "outputs": []
    },
    {
      "cell_type": "code",
      "source": [
        "movies.columns"
      ],
      "metadata": {
        "colab": {
          "base_uri": "https://localhost:8080/"
        },
        "id": "FWIniqzoH9bg",
        "outputId": "ad592c5a-ee3b-4010-c897-1fef83720fee"
      },
      "execution_count": 38,
      "outputs": [
        {
          "output_type": "execute_result",
          "data": {
            "text/plain": [
              "Index(['Film', 'Genre', 'CtriticRating', 'AudienceRating', 'Budget', 'Year'], dtype='object')"
            ]
          },
          "metadata": {},
          "execution_count": 38
        }
      ]
    },
    {
      "cell_type": "code",
      "source": [
        "movies.info()"
      ],
      "metadata": {
        "colab": {
          "base_uri": "https://localhost:8080/"
        },
        "id": "JUHZXllVIBWA",
        "outputId": "14a8b1aa-3d3c-4baa-f97b-8997795fa58e"
      },
      "execution_count": 39,
      "outputs": [
        {
          "output_type": "stream",
          "name": "stdout",
          "text": [
            "<class 'pandas.core.frame.DataFrame'>\n",
            "RangeIndex: 559 entries, 0 to 558\n",
            "Data columns (total 6 columns):\n",
            " #   Column          Non-Null Count  Dtype   \n",
            "---  ------          --------------  -----   \n",
            " 0   Film            559 non-null    object  \n",
            " 1   Genre           559 non-null    object  \n",
            " 2   CtriticRating   559 non-null    int64   \n",
            " 3   AudienceRating  559 non-null    int64   \n",
            " 4   Budget          559 non-null    int64   \n",
            " 5   Year            559 non-null    category\n",
            "dtypes: category(1), int64(3), object(2)\n",
            "memory usage: 22.7+ KB\n"
          ]
        }
      ]
    },
    {
      "cell_type": "code",
      "source": [
        "movies[movies.Year==2009]"
      ],
      "metadata": {
        "colab": {
          "base_uri": "https://localhost:8080/",
          "height": 424
        },
        "id": "n5Bt83kOIFVH",
        "outputId": "0336c427-4cd8-496b-e104-5bc02035fee2"
      },
      "execution_count": 40,
      "outputs": [
        {
          "output_type": "execute_result",
          "data": {
            "text/plain": [
              "                          Film      Genre  CtriticRating  AudienceRating  \\\n",
              "0        (500) Days of Summer      Comedy             87              81   \n",
              "2                   12 Rounds      Action             30              52   \n",
              "4                    17 Again      Comedy             55              70   \n",
              "5                         2012     Action             39              63   \n",
              "13              A Serious Man       Drama             89              64   \n",
              "..                         ...        ...            ...             ...   \n",
              "542                  Whiteout      Action              7              28   \n",
              "546  X-Men Origins: Wolverine      Action             37              72   \n",
              "548                  Year One   Adventure             14              31   \n",
              "555            Youth in Revolt     Comedy             68              52   \n",
              "557                Zombieland      Action             90              87   \n",
              "\n",
              "     Budget  Year  \n",
              "0         8  2009  \n",
              "2        20  2009  \n",
              "4        20  2009  \n",
              "5       200  2009  \n",
              "13        7  2009  \n",
              "..      ...   ...  \n",
              "542      35  2009  \n",
              "546     150  2009  \n",
              "548      60  2009  \n",
              "555      18  2009  \n",
              "557      24  2009  \n",
              "\n",
              "[116 rows x 6 columns]"
            ],
            "text/html": [
              "\n",
              "  <div id=\"df-65fd2d9d-4835-4b9e-a8ad-068fcfa6ac45\">\n",
              "    <div class=\"colab-df-container\">\n",
              "      <div>\n",
              "<style scoped>\n",
              "    .dataframe tbody tr th:only-of-type {\n",
              "        vertical-align: middle;\n",
              "    }\n",
              "\n",
              "    .dataframe tbody tr th {\n",
              "        vertical-align: top;\n",
              "    }\n",
              "\n",
              "    .dataframe thead th {\n",
              "        text-align: right;\n",
              "    }\n",
              "</style>\n",
              "<table border=\"1\" class=\"dataframe\">\n",
              "  <thead>\n",
              "    <tr style=\"text-align: right;\">\n",
              "      <th></th>\n",
              "      <th>Film</th>\n",
              "      <th>Genre</th>\n",
              "      <th>CtriticRating</th>\n",
              "      <th>AudienceRating</th>\n",
              "      <th>Budget</th>\n",
              "      <th>Year</th>\n",
              "    </tr>\n",
              "  </thead>\n",
              "  <tbody>\n",
              "    <tr>\n",
              "      <th>0</th>\n",
              "      <td>(500) Days of Summer</td>\n",
              "      <td>Comedy</td>\n",
              "      <td>87</td>\n",
              "      <td>81</td>\n",
              "      <td>8</td>\n",
              "      <td>2009</td>\n",
              "    </tr>\n",
              "    <tr>\n",
              "      <th>2</th>\n",
              "      <td>12 Rounds</td>\n",
              "      <td>Action</td>\n",
              "      <td>30</td>\n",
              "      <td>52</td>\n",
              "      <td>20</td>\n",
              "      <td>2009</td>\n",
              "    </tr>\n",
              "    <tr>\n",
              "      <th>4</th>\n",
              "      <td>17 Again</td>\n",
              "      <td>Comedy</td>\n",
              "      <td>55</td>\n",
              "      <td>70</td>\n",
              "      <td>20</td>\n",
              "      <td>2009</td>\n",
              "    </tr>\n",
              "    <tr>\n",
              "      <th>5</th>\n",
              "      <td>2012</td>\n",
              "      <td>Action</td>\n",
              "      <td>39</td>\n",
              "      <td>63</td>\n",
              "      <td>200</td>\n",
              "      <td>2009</td>\n",
              "    </tr>\n",
              "    <tr>\n",
              "      <th>13</th>\n",
              "      <td>A Serious Man</td>\n",
              "      <td>Drama</td>\n",
              "      <td>89</td>\n",
              "      <td>64</td>\n",
              "      <td>7</td>\n",
              "      <td>2009</td>\n",
              "    </tr>\n",
              "    <tr>\n",
              "      <th>...</th>\n",
              "      <td>...</td>\n",
              "      <td>...</td>\n",
              "      <td>...</td>\n",
              "      <td>...</td>\n",
              "      <td>...</td>\n",
              "      <td>...</td>\n",
              "    </tr>\n",
              "    <tr>\n",
              "      <th>542</th>\n",
              "      <td>Whiteout</td>\n",
              "      <td>Action</td>\n",
              "      <td>7</td>\n",
              "      <td>28</td>\n",
              "      <td>35</td>\n",
              "      <td>2009</td>\n",
              "    </tr>\n",
              "    <tr>\n",
              "      <th>546</th>\n",
              "      <td>X-Men Origins: Wolverine</td>\n",
              "      <td>Action</td>\n",
              "      <td>37</td>\n",
              "      <td>72</td>\n",
              "      <td>150</td>\n",
              "      <td>2009</td>\n",
              "    </tr>\n",
              "    <tr>\n",
              "      <th>548</th>\n",
              "      <td>Year One</td>\n",
              "      <td>Adventure</td>\n",
              "      <td>14</td>\n",
              "      <td>31</td>\n",
              "      <td>60</td>\n",
              "      <td>2009</td>\n",
              "    </tr>\n",
              "    <tr>\n",
              "      <th>555</th>\n",
              "      <td>Youth in Revolt</td>\n",
              "      <td>Comedy</td>\n",
              "      <td>68</td>\n",
              "      <td>52</td>\n",
              "      <td>18</td>\n",
              "      <td>2009</td>\n",
              "    </tr>\n",
              "    <tr>\n",
              "      <th>557</th>\n",
              "      <td>Zombieland</td>\n",
              "      <td>Action</td>\n",
              "      <td>90</td>\n",
              "      <td>87</td>\n",
              "      <td>24</td>\n",
              "      <td>2009</td>\n",
              "    </tr>\n",
              "  </tbody>\n",
              "</table>\n",
              "<p>116 rows × 6 columns</p>\n",
              "</div>\n",
              "      <button class=\"colab-df-convert\" onclick=\"convertToInteractive('df-65fd2d9d-4835-4b9e-a8ad-068fcfa6ac45')\"\n",
              "              title=\"Convert this dataframe to an interactive table.\"\n",
              "              style=\"display:none;\">\n",
              "        \n",
              "  <svg xmlns=\"http://www.w3.org/2000/svg\" height=\"24px\"viewBox=\"0 0 24 24\"\n",
              "       width=\"24px\">\n",
              "    <path d=\"M0 0h24v24H0V0z\" fill=\"none\"/>\n",
              "    <path d=\"M18.56 5.44l.94 2.06.94-2.06 2.06-.94-2.06-.94-.94-2.06-.94 2.06-2.06.94zm-11 1L8.5 8.5l.94-2.06 2.06-.94-2.06-.94L8.5 2.5l-.94 2.06-2.06.94zm10 10l.94 2.06.94-2.06 2.06-.94-2.06-.94-.94-2.06-.94 2.06-2.06.94z\"/><path d=\"M17.41 7.96l-1.37-1.37c-.4-.4-.92-.59-1.43-.59-.52 0-1.04.2-1.43.59L10.3 9.45l-7.72 7.72c-.78.78-.78 2.05 0 2.83L4 21.41c.39.39.9.59 1.41.59.51 0 1.02-.2 1.41-.59l7.78-7.78 2.81-2.81c.8-.78.8-2.07 0-2.86zM5.41 20L4 18.59l7.72-7.72 1.47 1.35L5.41 20z\"/>\n",
              "  </svg>\n",
              "      </button>\n",
              "      \n",
              "  <style>\n",
              "    .colab-df-container {\n",
              "      display:flex;\n",
              "      flex-wrap:wrap;\n",
              "      gap: 12px;\n",
              "    }\n",
              "\n",
              "    .colab-df-convert {\n",
              "      background-color: #E8F0FE;\n",
              "      border: none;\n",
              "      border-radius: 50%;\n",
              "      cursor: pointer;\n",
              "      display: none;\n",
              "      fill: #1967D2;\n",
              "      height: 32px;\n",
              "      padding: 0 0 0 0;\n",
              "      width: 32px;\n",
              "    }\n",
              "\n",
              "    .colab-df-convert:hover {\n",
              "      background-color: #E2EBFA;\n",
              "      box-shadow: 0px 1px 2px rgba(60, 64, 67, 0.3), 0px 1px 3px 1px rgba(60, 64, 67, 0.15);\n",
              "      fill: #174EA6;\n",
              "    }\n",
              "\n",
              "    [theme=dark] .colab-df-convert {\n",
              "      background-color: #3B4455;\n",
              "      fill: #D2E3FC;\n",
              "    }\n",
              "\n",
              "    [theme=dark] .colab-df-convert:hover {\n",
              "      background-color: #434B5C;\n",
              "      box-shadow: 0px 1px 3px 1px rgba(0, 0, 0, 0.15);\n",
              "      filter: drop-shadow(0px 1px 2px rgba(0, 0, 0, 0.3));\n",
              "      fill: #FFFFFF;\n",
              "    }\n",
              "  </style>\n",
              "\n",
              "      <script>\n",
              "        const buttonEl =\n",
              "          document.querySelector('#df-65fd2d9d-4835-4b9e-a8ad-068fcfa6ac45 button.colab-df-convert');\n",
              "        buttonEl.style.display =\n",
              "          google.colab.kernel.accessAllowed ? 'block' : 'none';\n",
              "\n",
              "        async function convertToInteractive(key) {\n",
              "          const element = document.querySelector('#df-65fd2d9d-4835-4b9e-a8ad-068fcfa6ac45');\n",
              "          const dataTable =\n",
              "            await google.colab.kernel.invokeFunction('convertToInteractive',\n",
              "                                                     [key], {});\n",
              "          if (!dataTable) return;\n",
              "\n",
              "          const docLinkHtml = 'Like what you see? Visit the ' +\n",
              "            '<a target=\"_blank\" href=https://colab.research.google.com/notebooks/data_table.ipynb>data table notebook</a>'\n",
              "            + ' to learn more about interactive tables.';\n",
              "          element.innerHTML = '';\n",
              "          dataTable['output_type'] = 'display_data';\n",
              "          await google.colab.output.renderOutput(dataTable, element);\n",
              "          const docLink = document.createElement('div');\n",
              "          docLink.innerHTML = docLinkHtml;\n",
              "          element.appendChild(docLink);\n",
              "        }\n",
              "      </script>\n",
              "    </div>\n",
              "  </div>\n",
              "  "
            ]
          },
          "metadata": {},
          "execution_count": 40
        }
      ]
    },
    {
      "cell_type": "code",
      "source": [
        "movies.Year=movies.Year.astype('category')\n"
      ],
      "metadata": {
        "id": "fc_cG9ccI16P"
      },
      "execution_count": 41,
      "outputs": []
    },
    {
      "cell_type": "code",
      "source": [
        "movies.Year"
      ],
      "metadata": {
        "colab": {
          "base_uri": "https://localhost:8080/"
        },
        "id": "CHer4RLlI_Qx",
        "outputId": "32d33040-4582-4691-f6ab-a47c381865cf"
      },
      "execution_count": 42,
      "outputs": [
        {
          "output_type": "execute_result",
          "data": {
            "text/plain": [
              "0      2009\n",
              "1      2008\n",
              "2      2009\n",
              "3      2010\n",
              "4      2009\n",
              "       ... \n",
              "554    2011\n",
              "555    2009\n",
              "556    2007\n",
              "557    2009\n",
              "558    2011\n",
              "Name: Year, Length: 559, dtype: category\n",
              "Categories (5, int64): [2007, 2008, 2009, 2010, 2011]"
            ]
          },
          "metadata": {},
          "execution_count": 42
        }
      ]
    },
    {
      "cell_type": "code",
      "source": [
        "movies.info()"
      ],
      "metadata": {
        "colab": {
          "base_uri": "https://localhost:8080/"
        },
        "id": "fqmfcJvEJGc4",
        "outputId": "fb04bebc-1463-44cc-df2d-985836b2368e"
      },
      "execution_count": 43,
      "outputs": [
        {
          "output_type": "stream",
          "name": "stdout",
          "text": [
            "<class 'pandas.core.frame.DataFrame'>\n",
            "RangeIndex: 559 entries, 0 to 558\n",
            "Data columns (total 6 columns):\n",
            " #   Column          Non-Null Count  Dtype   \n",
            "---  ------          --------------  -----   \n",
            " 0   Film            559 non-null    object  \n",
            " 1   Genre           559 non-null    object  \n",
            " 2   CtriticRating   559 non-null    int64   \n",
            " 3   AudienceRating  559 non-null    int64   \n",
            " 4   Budget          559 non-null    int64   \n",
            " 5   Year            559 non-null    category\n",
            "dtypes: category(1), int64(3), object(2)\n",
            "memory usage: 22.7+ KB\n"
          ]
        }
      ]
    },
    {
      "cell_type": "code",
      "source": [
        "movies.Year.cat.categories"
      ],
      "metadata": {
        "colab": {
          "base_uri": "https://localhost:8080/"
        },
        "id": "X1yfs2gIJI0U",
        "outputId": "8adf251c-23c6-49f7-ddd3-f5e48ef58e58"
      },
      "execution_count": 44,
      "outputs": [
        {
          "output_type": "execute_result",
          "data": {
            "text/plain": [
              "Int64Index([2007, 2008, 2009, 2010, 2011], dtype='int64')"
            ]
          },
          "metadata": {},
          "execution_count": 44
        }
      ]
    },
    {
      "cell_type": "code",
      "source": [
        "sns.jointplot(data=movies,x='CtriticRating', y='AudienceRating')\n",
        "# joint plot"
      ],
      "metadata": {
        "colab": {
          "base_uri": "https://localhost:8080/",
          "height": 458
        },
        "id": "RmyluSnsJboT",
        "outputId": "6c587374-eae0-40fc-bf6d-1a0980152593"
      },
      "execution_count": 46,
      "outputs": [
        {
          "output_type": "execute_result",
          "data": {
            "text/plain": [
              "<seaborn.axisgrid.JointGrid at 0x7fe18383fd60>"
            ]
          },
          "metadata": {},
          "execution_count": 46
        },
        {
          "output_type": "display_data",
          "data": {
            "text/plain": [
              "<Figure size 432x432 with 3 Axes>"
            ],
            "image/png": "[encoded data removed]"
          },
          "metadata": {
            "needs_background": "light"
          }
        }
      ]
    },
    {
      "cell_type": "code",
      "source": [
        "# changing to hexagonal\n",
        "sns.jointplot(data=movies,x='CtriticRating', y='AudienceRating',kind='hex')"
      ],
      "metadata": {
        "colab": {
          "base_uri": "https://localhost:8080/",
          "height": 458
        },
        "id": "Ucj1bJCsRegI",
        "outputId": "4b66952b-88f1-4282-c070-4a724e1255a1"
      },
      "execution_count": 48,
      "outputs": [
        {
          "output_type": "execute_result",
          "data": {
            "text/plain": [
              "<seaborn.axisgrid.JointGrid at 0x7fe18364f100>"
            ]
          },
          "metadata": {},
          "execution_count": 48
        },
        {
          "output_type": "display_data",
          "data": {
            "text/plain": [
              "<Figure size 432x432 with 3 Axes>"
            ],
            "image/png": "[encoded data removed]"
          },
          "metadata": {
            "needs_background": "light"
          }
        }
      ]
    },
    {
      "cell_type": "code",
      "source": [
        "sns.displot(movies.CtriticRating)"
      ],
      "metadata": {
        "colab": {
          "base_uri": "https://localhost:8080/",
          "height": 386
        },
        "id": "kI7FkKDwSIQf",
        "outputId": "8b587718-3707-4ab9-e592-b68667c96a01"
      },
      "execution_count": 51,
      "outputs": [
        {
          "output_type": "execute_result",
          "data": {
            "text/plain": [
              "<seaborn.axisgrid.FacetGrid at 0x7fe183a3d640>"
            ]
          },
          "metadata": {},
          "execution_count": 51
        },
        {
          "output_type": "display_data",
          "data": {
            "text/plain": [
              "<Figure size 360x360 with 1 Axes>"
            ],
            "image/png": "[encoded data removed]"
          },
          "metadata": {
            "needs_background": "light"
          }
        }
      ]
    },
    {
      "cell_type": "code",
      "source": [
        "sns.displot(movies.AudienceRating)"
      ],
      "metadata": {
        "colab": {
          "base_uri": "https://localhost:8080/",
          "height": 386
        },
        "id": "ASI0bk5lSkvs",
        "outputId": "725c568c-e662-46b1-8b2e-63653a145586"
      },
      "execution_count": 55,
      "outputs": [
        {
          "output_type": "execute_result",
          "data": {
            "text/plain": [
              "<seaborn.axisgrid.FacetGrid at 0x7fe182b0d5e0>"
            ]
          },
          "metadata": {},
          "execution_count": 55
        },
        {
          "output_type": "display_data",
          "data": {
            "text/plain": [
              "<Figure size 360x360 with 1 Axes>"
            ],
            "image/png": "[encoded data removed]"
          },
          "metadata": {
            "needs_background": "light"
          }
        }
      ]
    },
    {
      "cell_type": "code",
      "source": [
        "plt.hist(movies.CtriticRating)"
      ],
      "metadata": {
        "colab": {
          "base_uri": "https://localhost:8080/",
          "height": 317
        },
        "id": "40QdrTOqS2jm",
        "outputId": "dd0e8fe9-5325-48d6-e735-22cb0902325b"
      },
      "execution_count": 58,
      "outputs": [
        {
          "output_type": "execute_result",
          "data": {
            "text/plain": [
              "(array([38., 64., 75., 53., 68., 64., 43., 54., 57., 43.]),\n",
              " array([ 0. ,  9.7, 19.4, 29.1, 38.8, 48.5, 58.2, 67.9, 77.6, 87.3, 97. ]),\n",
              " <BarContainer object of 10 artists>)"
            ]
          },
          "metadata": {},
          "execution_count": 58
        },
        {
          "output_type": "display_data",
          "data": {
            "text/plain": [
              "<Figure size 432x288 with 1 Axes>"
            ],
            "image/png": "[encoded data removed]"
          },
          "metadata": {
            "needs_background": "light"
          }
        }
      ]
    },
    {
      "cell_type": "code",
      "source": [
        "plt.hist(movies.Budget,bins=15)"
      ],
      "metadata": {
        "colab": {
          "base_uri": "https://localhost:8080/",
          "height": 352
        },
        "id": "2DftUP-eTlUK",
        "outputId": "091b17b3-1409-4d9b-fa70-ae3bfb952cd2"
      },
      "execution_count": 64,
      "outputs": [
        {
          "output_type": "execute_result",
          "data": {
            "text/plain": [
              "(array([134., 183.,  82.,  50.,  33.,  20.,  11.,  20.,   6.,   5.,   9.,\n",
              "          2.,   3.,   0.,   1.]),\n",
              " array([  0.,  20.,  40.,  60.,  80., 100., 120., 140., 160., 180., 200.,\n",
              "        220., 240., 260., 280., 300.]),\n",
              " <BarContainer object of 15 artists>)"
            ]
          },
          "metadata": {},
          "execution_count": 64
        },
        {
          "output_type": "display_data",
          "data": {
            "text/plain": [
              "<Figure size 432x288 with 1 Axes>"
            ],
            "image/png": "[encoded data removed]"
          },
          "metadata": {
            "needs_background": "light"
          }
        }
      ]
    },
    {
      "cell_type": "code",
      "source": [
        "plt.hist(movies[movies.Genre=='Action'].Budget,bins=15)\n",
        "plt.hist(movies[movies.Genre=='Drama'].Budget,bins=15)\n",
        "plt.hist(movies[movies.Genre=='Thriller'].Budget,bins=15)"
      ],
      "metadata": {
        "colab": {
          "base_uri": "https://localhost:8080/",
          "height": 369
        },
        "id": "reduWEHET5qx",
        "outputId": "c26bd8b2-ceef-4222-d983-e59f2bb952a3"
      },
      "execution_count": 65,
      "outputs": [
        {
          "output_type": "execute_result",
          "data": {
            "text/plain": [
              "(array([4., 9., 7., 2., 2., 3., 1., 4., 1., 0., 1., 0., 1., 0., 1.]),\n",
              " array([  4.        ,  16.06666667,  28.13333333,  40.2       ,\n",
              "         52.26666667,  64.33333333,  76.4       ,  88.46666667,\n",
              "        100.53333333, 112.6       , 124.66666667, 136.73333333,\n",
              "        148.8       , 160.86666667, 172.93333333, 185.        ]),\n",
              " <BarContainer object of 15 artists>)"
            ]
          },
          "metadata": {},
          "execution_count": 65
        },
        {
          "output_type": "display_data",
          "data": {
            "text/plain": [
              "<Figure size 432x288 with 1 Axes>"
            ],
            "image/png": "[encoded data removed]"
          },
          "metadata": {
            "needs_background": "light"
          }
        }
      ]
    },
    {
      "cell_type": "code",
      "source": [
        "plt.hist(movies[movies.Genre=='Action'].Budget,bins=15)\n",
        "plt.hist(movies[movies.Genre=='Drama'].Budget,bins=15)\n",
        "plt.hist(movies[movies.Genre=='Thriller'].Budget,bins=15)"
      ],
      "metadata": {
        "id": "zrZiyQgdUyQN"
      },
      "execution_count": null,
      "outputs": []
    },
    {
      "cell_type": "code",
      "source": [
        "plt.hist([movies[movies.Genre=='Action'].Budget,movies[movies.Genre=='Drama'].Budget,movies[movies.Genre=='Thriller'].Budget],bins=15, stacked=True)\n",
        "plt.show()"
      ],
      "metadata": {
        "colab": {
          "base_uri": "https://localhost:8080/",
          "height": 265
        },
        "id": "jwkTvssdT9FQ",
        "outputId": "40858c31-e144-4bf4-f4e6-6ad8d5988a63"
      },
      "execution_count": 80,
      "outputs": [
        {
          "output_type": "display_data",
          "data": {
            "text/plain": [
              "<Figure size 432x288 with 1 Axes>"
            ],
            "image/png": "[encoded data removed]"
          },
          "metadata": {
            "needs_background": "light"
          }
        }
      ]
    },
    {
      "cell_type": "code",
      "source": [
        "movies.Genre=movies.Genre.astype('category')\n",
        "movies.Genre.cat.categories"
      ],
      "metadata": {
        "colab": {
          "base_uri": "https://localhost:8080/"
        },
        "id": "f9asYC-YT9b0",
        "outputId": "cb7368da-2d69-4c26-dcf8-607f8d1c8fd7"
      },
      "execution_count": 82,
      "outputs": [
        {
          "output_type": "execute_result",
          "data": {
            "text/plain": [
              "Index(['Action', 'Adventure', 'Comedy', 'Drama', 'Horror', 'Romance',\n",
              "       'Thriller'],\n",
              "      dtype='object')"
            ]
          },
          "metadata": {},
          "execution_count": 82
        }
      ]
    },
    {
      "cell_type": "code",
      "source": [
        "movies.info()"
      ],
      "metadata": {
        "colab": {
          "base_uri": "https://localhost:8080/"
        },
        "id": "cSIwmcnFYyLy",
        "outputId": "49170cd3-1358-4d58-801e-134c77fa72fa"
      },
      "execution_count": 84,
      "outputs": [
        {
          "output_type": "stream",
          "name": "stdout",
          "text": [
            "<class 'pandas.core.frame.DataFrame'>\n",
            "RangeIndex: 559 entries, 0 to 558\n",
            "Data columns (total 6 columns):\n",
            " #   Column          Non-Null Count  Dtype   \n",
            "---  ------          --------------  -----   \n",
            " 0   Film            559 non-null    object  \n",
            " 1   Genre           559 non-null    category\n",
            " 2   CtriticRating   559 non-null    int64   \n",
            " 3   AudienceRating  559 non-null    int64   \n",
            " 4   Budget          559 non-null    int64   \n",
            " 5   Year            559 non-null    category\n",
            "dtypes: category(2), int64(3), object(1)\n",
            "memory usage: 19.2+ KB\n"
          ]
        }
      ]
    },
    {
      "cell_type": "code",
      "source": [
        "list1=list()\n",
        "for gen in movies.Genre.cat.categories:\n",
        "  list1.append(movies[movies.Genre==gen].Budget)\n",
        "\n",
        "plt.hist(list1,bins=15, stacked=True)\n",
        "plt.show()\n",
        "\n",
        "  "
      ],
      "metadata": {
        "colab": {
          "base_uri": "https://localhost:8080/",
          "height": 265
        },
        "id": "YeHKy4nbYUKj",
        "outputId": "9546f9e8-812e-4742-9158-8ce10bfc9344"
      },
      "execution_count": 89,
      "outputs": [
        {
          "output_type": "display_data",
          "data": {
            "text/plain": [
              "<Figure size 432x288 with 1 Axes>"
            ],
            "image/png": "[encoded data removed]"
          },
          "metadata": {
            "needs_background": "light"
          }
        }
      ]
    },
    {
      "cell_type": "code",
      "source": [
        "list1=list()\n",
        "list2=list()\n",
        "for gen in movies.Genre.cat.categories:\n",
        "  list1.append(movies[movies.Genre==gen].Budget)\n",
        "  list2.append(gen)\n",
        "\n",
        "plt.hist(list1,bins=15, stacked=True,label=list2)\n",
        "plt.legend()\n",
        "plt.show()"
      ],
      "metadata": {
        "colab": {
          "base_uri": "https://localhost:8080/",
          "height": 265
        },
        "id": "tRNBcS0ubaYn",
        "outputId": "f4069558-cbb4-45f1-9bac-11b41f240c17"
      },
      "execution_count": 92,
      "outputs": [
        {
          "output_type": "display_data",
          "data": {
            "text/plain": [
              "<Figure size 432x288 with 1 Axes>"
            ],
            "image/png": "[encoded data removed]"
          },
          "metadata": {
            "needs_background": "light"
          }
        }
      ]
    },
    {
      "cell_type": "code",
      "source": [
        "sns.kdeplot(movies.CtriticRating,movies.AudienceRating,cmap='Reds', shade=True)"
      ],
      "metadata": {
        "colab": {
          "base_uri": "https://localhost:8080/",
          "height": 351
        },
        "id": "vbNl_s0CbaKa",
        "outputId": "2e32aaaa-50aa-47fd-d56d-c8fc0d734d83"
      },
      "execution_count": 98,
      "outputs": [
        {
          "output_type": "stream",
          "name": "stderr",
          "text": [
            "/usr/local/lib/python3.8/dist-packages/seaborn/_decorators.py:36: FutureWarning: Pass the following variable as a keyword arg: y. From version 0.12, the only valid positional argument will be `data`, and passing other arguments without an explicit keyword will result in an error or misinterpretation.\n",
            "  warnings.warn(\n"
          ]
        },
        {
          "output_type": "execute_result",
          "data": {
            "text/plain": [
              "<AxesSubplot:xlabel='CtriticRating', ylabel='AudienceRating'>"
            ]
          },
          "metadata": {},
          "execution_count": 98
        },
        {
          "output_type": "display_data",
          "data": {
            "text/plain": [
              "<Figure size 432x288 with 1 Axes>"
            ],
            "image/png": "[encoded data removed]"
          },
          "metadata": {
            "needs_background": "light"
          }
        }
      ]
    },
    {
      "cell_type": "code",
      "source": [
        "sns.boxplot(data=movies,x='Genre', y='CtriticRating')"
      ],
      "metadata": {
        "colab": {
          "base_uri": "https://localhost:8080/",
          "height": 297
        },
        "id": "3xEEsR7SbZ5k",
        "outputId": "d60f4e34-5d4f-47d3-84b1-276ac762dfad"
      },
      "execution_count": 101,
      "outputs": [
        {
          "output_type": "execute_result",
          "data": {
            "text/plain": [
              "<AxesSubplot:xlabel='Genre', ylabel='CtriticRating'>"
            ]
          },
          "metadata": {},
          "execution_count": 101
        },
        {
          "output_type": "display_data",
          "data": {
            "text/plain": [
              "<Figure size 432x288 with 1 Axes>"
            ],
            "image/png": "[encoded data removed]"
          },
          "metadata": {
            "needs_background": "light"
          }
        }
      ]
    },
    {
      "cell_type": "code",
      "source": [
        "sns.boxplot(data=movies,x='Genre', y='Budget')\n",
        "plt.show()"
      ],
      "metadata": {
        "colab": {
          "base_uri": "https://localhost:8080/",
          "height": 279
        },
        "id": "8zfmxAxKfePh",
        "outputId": "b05bfc65-7a44-4a3c-e56b-53cc11f6ba21"
      },
      "execution_count": 103,
      "outputs": [
        {
          "output_type": "display_data",
          "data": {
            "text/plain": [
              "<Figure size 432x288 with 1 Axes>"
            ],
            "image/png": "[encoded data removed]"
          },
          "metadata": {
            "needs_background": "light"
          }
        }
      ]
    },
    {
      "cell_type": "code",
      "source": [
        "sns.violinplot(data=movies,x='Genre', y='Budget')\n",
        "plt.show()"
      ],
      "metadata": {
        "colab": {
          "base_uri": "https://localhost:8080/",
          "height": 279
        },
        "id": "i4WY2i5HbYtg",
        "outputId": "0bd238bb-cdae-421f-9f1d-9abddbe2d968"
      },
      "execution_count": 108,
      "outputs": [
        {
          "output_type": "display_data",
          "data": {
            "text/plain": [
              "<Figure size 432x288 with 1 Axes>"
            ],
            "image/png": "[encoded data removed]"
          },
          "metadata": {
            "needs_background": "light"
          }
        }
      ]
    },
    {
      "cell_type": "code",
      "source": [
        "movies[movies.Budget<5]"
      ],
      "metadata": {
        "colab": {
          "base_uri": "https://localhost:8080/",
          "height": 833
        },
        "id": "H-kttiD7g85r",
        "outputId": "d2213037-5e96-4e8c-ca22-4f5cf80ed660"
      },
      "execution_count": 111,
      "outputs": [
        {
          "output_type": "execute_result",
          "data": {
            "text/plain": [
              "                       Film     Genre  CtriticRating  AudienceRating  Budget  \\\n",
              "44                Beginners    Comedy             84              80       4   \n",
              "55                   Buried     Drama             86              63       2   \n",
              "128               Fireproof     Drama             40              51       1   \n",
              "154               Greenberg    Comedy             75              40       0   \n",
              "185          I'm Still Here    Comedy             52              38       0   \n",
              "194               Insidious    Horror             67              65       2   \n",
              "201               Jane Eyre   Romance             85              77       0   \n",
              "237             Margin Call  Thriller             86              73       4   \n",
              "268           Next Day Air     Action             21              27       3   \n",
              "287      Our Family Wedding    Comedy             14              49       0   \n",
              "292    Paranormal Activity     Horror             82              56       1   \n",
              "293   Paranormal Activity 2    Horror              0               0       3   \n",
              "305             Please Give    Comedy             88              62       3   \n",
              "322               Red State    Horror             57              59       4   \n",
              "337                Semi-Pro    Comedy             21              41       3   \n",
              "356                Soul Men    Comedy             45              42       0   \n",
              "440  The Kids Are All Right    Comedy             94              72       4   \n",
              "444       The Last Exorcism     Drama             73              32       2   \n",
              "474       The Spy Next Door    Action             13              46       0   \n",
              "487          The Uninvited      Drama             31              52       0   \n",
              "488             The Visitor     Drama             92              83       4   \n",
              "511     Under the Same Moon     Drama             72              37       2   \n",
              "525                Waitress   Romance             89              67       2   \n",
              "539            When in Rome    Comedy             15              44       0   \n",
              "545           Winter's Bone     Drama             94              73       2   \n",
              "\n",
              "     Year  \n",
              "44   2010  \n",
              "55   2010  \n",
              "128  2008  \n",
              "154  2010  \n",
              "185  2010  \n",
              "194  2008  \n",
              "201  2011  \n",
              "237  2011  \n",
              "268  2009  \n",
              "287  2010  \n",
              "292  2007  \n",
              "293  2010  \n",
              "305  2010  \n",
              "322  2011  \n",
              "337  2008  \n",
              "356  2008  \n",
              "440  2010  \n",
              "444  2010  \n",
              "474  2010  \n",
              "487  2009  \n",
              "488  2007  \n",
              "511  2007  \n",
              "525  2007  \n",
              "539  2010  \n",
              "545  2010  "
            ],
            "text/html": [
              "\n",
              "  <div id=\"df-4a601f50-253d-4395-93b6-9d564fbac411\">\n",
              "    <div class=\"colab-df-container\">\n",
              "      <div>\n",
              "<style scoped>\n",
              "    .dataframe tbody tr th:only-of-type {\n",
              "        vertical-align: middle;\n",
              "    }\n",
              "\n",
              "    .dataframe tbody tr th {\n",
              "        vertical-align: top;\n",
              "    }\n",
              "\n",
              "    .dataframe thead th {\n",
              "        text-align: right;\n",
              "    }\n",
              "</style>\n",
              "<table border=\"1\" class=\"dataframe\">\n",
              "  <thead>\n",
              "    <tr style=\"text-align: right;\">\n",
              "      <th></th>\n",
              "      <th>Film</th>\n",
              "      <th>Genre</th>\n",
              "      <th>CtriticRating</th>\n",
              "      <th>AudienceRating</th>\n",
              "      <th>Budget</th>\n",
              "      <th>Year</th>\n",
              "    </tr>\n",
              "  </thead>\n",
              "  <tbody>\n",
              "    <tr>\n",
              "      <th>44</th>\n",
              "      <td>Beginners</td>\n",
              "      <td>Comedy</td>\n",
              "      <td>84</td>\n",
              "      <td>80</td>\n",
              "      <td>4</td>\n",
              "      <td>2010</td>\n",
              "    </tr>\n",
              "    <tr>\n",
              "      <th>55</th>\n",
              "      <td>Buried</td>\n",
              "      <td>Drama</td>\n",
              "      <td>86</td>\n",
              "      <td>63</td>\n",
              "      <td>2</td>\n",
              "      <td>2010</td>\n",
              "    </tr>\n",
              "    <tr>\n",
              "      <th>128</th>\n",
              "      <td>Fireproof</td>\n",
              "      <td>Drama</td>\n",
              "      <td>40</td>\n",
              "      <td>51</td>\n",
              "      <td>1</td>\n",
              "      <td>2008</td>\n",
              "    </tr>\n",
              "    <tr>\n",
              "      <th>154</th>\n",
              "      <td>Greenberg</td>\n",
              "      <td>Comedy</td>\n",
              "      <td>75</td>\n",
              "      <td>40</td>\n",
              "      <td>0</td>\n",
              "      <td>2010</td>\n",
              "    </tr>\n",
              "    <tr>\n",
              "      <th>185</th>\n",
              "      <td>I'm Still Here</td>\n",
              "      <td>Comedy</td>\n",
              "      <td>52</td>\n",
              "      <td>38</td>\n",
              "      <td>0</td>\n",
              "      <td>2010</td>\n",
              "    </tr>\n",
              "    <tr>\n",
              "      <th>194</th>\n",
              "      <td>Insidious</td>\n",
              "      <td>Horror</td>\n",
              "      <td>67</td>\n",
              "      <td>65</td>\n",
              "      <td>2</td>\n",
              "      <td>2008</td>\n",
              "    </tr>\n",
              "    <tr>\n",
              "      <th>201</th>\n",
              "      <td>Jane Eyre</td>\n",
              "      <td>Romance</td>\n",
              "      <td>85</td>\n",
              "      <td>77</td>\n",
              "      <td>0</td>\n",
              "      <td>2011</td>\n",
              "    </tr>\n",
              "    <tr>\n",
              "      <th>237</th>\n",
              "      <td>Margin Call</td>\n",
              "      <td>Thriller</td>\n",
              "      <td>86</td>\n",
              "      <td>73</td>\n",
              "      <td>4</td>\n",
              "      <td>2011</td>\n",
              "    </tr>\n",
              "    <tr>\n",
              "      <th>268</th>\n",
              "      <td>Next Day Air</td>\n",
              "      <td>Action</td>\n",
              "      <td>21</td>\n",
              "      <td>27</td>\n",
              "      <td>3</td>\n",
              "      <td>2009</td>\n",
              "    </tr>\n",
              "    <tr>\n",
              "      <th>287</th>\n",
              "      <td>Our Family Wedding</td>\n",
              "      <td>Comedy</td>\n",
              "      <td>14</td>\n",
              "      <td>49</td>\n",
              "      <td>0</td>\n",
              "      <td>2010</td>\n",
              "    </tr>\n",
              "    <tr>\n",
              "      <th>292</th>\n",
              "      <td>Paranormal Activity</td>\n",
              "      <td>Horror</td>\n",
              "      <td>82</td>\n",
              "      <td>56</td>\n",
              "      <td>1</td>\n",
              "      <td>2007</td>\n",
              "    </tr>\n",
              "    <tr>\n",
              "      <th>293</th>\n",
              "      <td>Paranormal Activity 2</td>\n",
              "      <td>Horror</td>\n",
              "      <td>0</td>\n",
              "      <td>0</td>\n",
              "      <td>3</td>\n",
              "      <td>2010</td>\n",
              "    </tr>\n",
              "    <tr>\n",
              "      <th>305</th>\n",
              "      <td>Please Give</td>\n",
              "      <td>Comedy</td>\n",
              "      <td>88</td>\n",
              "      <td>62</td>\n",
              "      <td>3</td>\n",
              "      <td>2010</td>\n",
              "    </tr>\n",
              "    <tr>\n",
              "      <th>322</th>\n",
              "      <td>Red State</td>\n",
              "      <td>Horror</td>\n",
              "      <td>57</td>\n",
              "      <td>59</td>\n",
              "      <td>4</td>\n",
              "      <td>2011</td>\n",
              "    </tr>\n",
              "    <tr>\n",
              "      <th>337</th>\n",
              "      <td>Semi-Pro</td>\n",
              "      <td>Comedy</td>\n",
              "      <td>21</td>\n",
              "      <td>41</td>\n",
              "      <td>3</td>\n",
              "      <td>2008</td>\n",
              "    </tr>\n",
              "    <tr>\n",
              "      <th>356</th>\n",
              "      <td>Soul Men</td>\n",
              "      <td>Comedy</td>\n",
              "      <td>45</td>\n",
              "      <td>42</td>\n",
              "      <td>0</td>\n",
              "      <td>2008</td>\n",
              "    </tr>\n",
              "    <tr>\n",
              "      <th>440</th>\n",
              "      <td>The Kids Are All Right</td>\n",
              "      <td>Comedy</td>\n",
              "      <td>94</td>\n",
              "      <td>72</td>\n",
              "      <td>4</td>\n",
              "      <td>2010</td>\n",
              "    </tr>\n",
              "    <tr>\n",
              "      <th>444</th>\n",
              "      <td>The Last Exorcism</td>\n",
              "      <td>Drama</td>\n",
              "      <td>73</td>\n",
              "      <td>32</td>\n",
              "      <td>2</td>\n",
              "      <td>2010</td>\n",
              "    </tr>\n",
              "    <tr>\n",
              "      <th>474</th>\n",
              "      <td>The Spy Next Door</td>\n",
              "      <td>Action</td>\n",
              "      <td>13</td>\n",
              "      <td>46</td>\n",
              "      <td>0</td>\n",
              "      <td>2010</td>\n",
              "    </tr>\n",
              "    <tr>\n",
              "      <th>487</th>\n",
              "      <td>The Uninvited</td>\n",
              "      <td>Drama</td>\n",
              "      <td>31</td>\n",
              "      <td>52</td>\n",
              "      <td>0</td>\n",
              "      <td>2009</td>\n",
              "    </tr>\n",
              "    <tr>\n",
              "      <th>488</th>\n",
              "      <td>The Visitor</td>\n",
              "      <td>Drama</td>\n",
              "      <td>92</td>\n",
              "      <td>83</td>\n",
              "      <td>4</td>\n",
              "      <td>2007</td>\n",
              "    </tr>\n",
              "    <tr>\n",
              "      <th>511</th>\n",
              "      <td>Under the Same Moon</td>\n",
              "      <td>Drama</td>\n",
              "      <td>72</td>\n",
              "      <td>37</td>\n",
              "      <td>2</td>\n",
              "      <td>2007</td>\n",
              "    </tr>\n",
              "    <tr>\n",
              "      <th>525</th>\n",
              "      <td>Waitress</td>\n",
              "      <td>Romance</td>\n",
              "      <td>89</td>\n",
              "      <td>67</td>\n",
              "      <td>2</td>\n",
              "      <td>2007</td>\n",
              "    </tr>\n",
              "    <tr>\n",
              "      <th>539</th>\n",
              "      <td>When in Rome</td>\n",
              "      <td>Comedy</td>\n",
              "      <td>15</td>\n",
              "      <td>44</td>\n",
              "      <td>0</td>\n",
              "      <td>2010</td>\n",
              "    </tr>\n",
              "    <tr>\n",
              "      <th>545</th>\n",
              "      <td>Winter's Bone</td>\n",
              "      <td>Drama</td>\n",
              "      <td>94</td>\n",
              "      <td>73</td>\n",
              "      <td>2</td>\n",
              "      <td>2010</td>\n",
              "    </tr>\n",
              "  </tbody>\n",
              "</table>\n",
              "</div>\n",
              "      <button class=\"colab-df-convert\" onclick=\"convertToInteractive('df-4a601f50-253d-4395-93b6-9d564fbac411')\"\n",
              "              title=\"Convert this dataframe to an interactive table.\"\n",
              "              style=\"display:none;\">\n",
              "        \n",
              "  <svg xmlns=\"http://www.w3.org/2000/svg\" height=\"24px\"viewBox=\"0 0 24 24\"\n",
              "       width=\"24px\">\n",
              "    <path d=\"M0 0h24v24H0V0z\" fill=\"none\"/>\n",
              "    <path d=\"M18.56 5.44l.94 2.06.94-2.06 2.06-.94-2.06-.94-.94-2.06-.94 2.06-2.06.94zm-11 1L8.5 8.5l.94-2.06 2.06-.94-2.06-.94L8.5 2.5l-.94 2.06-2.06.94zm10 10l.94 2.06.94-2.06 2.06-.94-2.06-.94-.94-2.06-.94 2.06-2.06.94z\"/><path d=\"M17.41 7.96l-1.37-1.37c-.4-.4-.92-.59-1.43-.59-.52 0-1.04.2-1.43.59L10.3 9.45l-7.72 7.72c-.78.78-.78 2.05 0 2.83L4 21.41c.39.39.9.59 1.41.59.51 0 1.02-.2 1.41-.59l7.78-7.78 2.81-2.81c.8-.78.8-2.07 0-2.86zM5.41 20L4 18.59l7.72-7.72 1.47 1.35L5.41 20z\"/>\n",
              "  </svg>\n",
              "      </button>\n",
              "      \n",
              "  <style>\n",
              "    .colab-df-container {\n",
              "      display:flex;\n",
              "      flex-wrap:wrap;\n",
              "      gap: 12px;\n",
              "    }\n",
              "\n",
              "    .colab-df-convert {\n",
              "      background-color: #E8F0FE;\n",
              "      border: none;\n",
              "      border-radius: 50%;\n",
              "      cursor: pointer;\n",
              "      display: none;\n",
              "      fill: #1967D2;\n",
              "      height: 32px;\n",
              "      padding: 0 0 0 0;\n",
              "      width: 32px;\n",
              "    }\n",
              "\n",
              "    .colab-df-convert:hover {\n",
              "      background-color: #E2EBFA;\n",
              "      box-shadow: 0px 1px 2px rgba(60, 64, 67, 0.3), 0px 1px 3px 1px rgba(60, 64, 67, 0.15);\n",
              "      fill: #174EA6;\n",
              "    }\n",
              "\n",
              "    [theme=dark] .colab-df-convert {\n",
              "      background-color: #3B4455;\n",
              "      fill: #D2E3FC;\n",
              "    }\n",
              "\n",
              "    [theme=dark] .colab-df-convert:hover {\n",
              "      background-color: #434B5C;\n",
              "      box-shadow: 0px 1px 3px 1px rgba(0, 0, 0, 0.15);\n",
              "      filter: drop-shadow(0px 1px 2px rgba(0, 0, 0, 0.3));\n",
              "      fill: #FFFFFF;\n",
              "    }\n",
              "  </style>\n",
              "\n",
              "      <script>\n",
              "        const buttonEl =\n",
              "          document.querySelector('#df-4a601f50-253d-4395-93b6-9d564fbac411 button.colab-df-convert');\n",
              "        buttonEl.style.display =\n",
              "          google.colab.kernel.accessAllowed ? 'block' : 'none';\n",
              "\n",
              "        async function convertToInteractive(key) {\n",
              "          const element = document.querySelector('#df-4a601f50-253d-4395-93b6-9d564fbac411');\n",
              "          const dataTable =\n",
              "            await google.colab.kernel.invokeFunction('convertToInteractive',\n",
              "                                                     [key], {});\n",
              "          if (!dataTable) return;\n",
              "\n",
              "          const docLinkHtml = 'Like what you see? Visit the ' +\n",
              "            '<a target=\"_blank\" href=https://colab.research.google.com/notebooks/data_table.ipynb>data table notebook</a>'\n",
              "            + ' to learn more about interactive tables.';\n",
              "          element.innerHTML = '';\n",
              "          dataTable['output_type'] = 'display_data';\n",
              "          await google.colab.output.renderOutput(dataTable, element);\n",
              "          const docLink = document.createElement('div');\n",
              "          docLink.innerHTML = docLinkHtml;\n",
              "          element.appendChild(docLink);\n",
              "        }\n",
              "      </script>\n",
              "    </div>\n",
              "  </div>\n",
              "  "
            ]
          },
          "metadata": {},
          "execution_count": 111
        }
      ]
    }
  ]
}